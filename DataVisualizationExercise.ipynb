{
  "nbformat": 4,
  "nbformat_minor": 0,
  "metadata": {
    "colab": {
      "name": "DataVisualizationExercise.ipynb",
      "provenance": [],
      "authorship_tag": "ABX9TyNpqmZeZHbH8jGD9R3D7fw+"
    },
    "kernelspec": {
      "name": "python3",
      "display_name": "Python 3"
    },
    "language_info": {
      "name": "python"
    }
  },
  "cells": [
    {
      "cell_type": "code",
      "metadata": {
        "id": "YTj6DfYflXu-"
      },
      "source": [
        "import pandas as pd\n",
        "import numpy as np\n",
        "import matplotlib.pyplot as plt\n",
        "import seaborn as sns"
      ],
      "execution_count": 1,
      "outputs": []
    },
    {
      "cell_type": "code",
      "metadata": {
        "colab": {
          "base_uri": "https://localhost:8080/",
          "height": 203
        },
        "id": "UIAqbq9HmG4L",
        "outputId": "e5f45f16-490b-4ecd-9f64-05ccd0307d3b"
      },
      "source": [
        "sleep = '/content/Week9MM.xlsx'\n",
        "sleep_df = pd.read_excel(sleep)\n",
        "sleep_df.head()"
      ],
      "execution_count": 3,
      "outputs": [
        {
          "output_type": "execute_result",
          "data": {
            "text/html": [
              "<div>\n",
              "<style scoped>\n",
              "    .dataframe tbody tr th:only-of-type {\n",
              "        vertical-align: middle;\n",
              "    }\n",
              "\n",
              "    .dataframe tbody tr th {\n",
              "        vertical-align: top;\n",
              "    }\n",
              "\n",
              "    .dataframe thead th {\n",
              "        text-align: right;\n",
              "    }\n",
              "</style>\n",
              "<table border=\"1\" class=\"dataframe\">\n",
              "  <thead>\n",
              "    <tr style=\"text-align: right;\">\n",
              "      <th></th>\n",
              "      <th>Grade</th>\n",
              "      <th>Hours Needed</th>\n",
              "      <th>Hours Averaged</th>\n",
              "    </tr>\n",
              "  </thead>\n",
              "  <tbody>\n",
              "    <tr>\n",
              "      <th>0</th>\n",
              "      <td>Kindergarten</td>\n",
              "      <td>9.5</td>\n",
              "      <td>8.5</td>\n",
              "    </tr>\n",
              "    <tr>\n",
              "      <th>1</th>\n",
              "      <td>First grade</td>\n",
              "      <td>9.1</td>\n",
              "      <td>8.4</td>\n",
              "    </tr>\n",
              "    <tr>\n",
              "      <th>2</th>\n",
              "      <td>Second grade</td>\n",
              "      <td>9.3</td>\n",
              "      <td>8.3</td>\n",
              "    </tr>\n",
              "    <tr>\n",
              "      <th>3</th>\n",
              "      <td>Third grade</td>\n",
              "      <td>8.6</td>\n",
              "      <td>8.1</td>\n",
              "    </tr>\n",
              "    <tr>\n",
              "      <th>4</th>\n",
              "      <td>Fourth grade</td>\n",
              "      <td>8.9</td>\n",
              "      <td>7.9</td>\n",
              "    </tr>\n",
              "  </tbody>\n",
              "</table>\n",
              "</div>"
            ],
            "text/plain": [
              "          Grade  Hours Needed  Hours Averaged\n",
              "0  Kindergarten           9.5             8.5\n",
              "1   First grade           9.1             8.4\n",
              "2  Second grade           9.3             8.3\n",
              "3   Third grade           8.6             8.1\n",
              "4  Fourth grade           8.9             7.9"
            ]
          },
          "metadata": {},
          "execution_count": 3
        }
      ]
    },
    {
      "cell_type": "code",
      "metadata": {
        "id": "cV0H4WCLssev"
      },
      "source": [
        "sleep_df['Grade'] = sleep_df['Grade'].replace(['Ninth grade'], '9th grade')"
      ],
      "execution_count": 20,
      "outputs": []
    },
    {
      "cell_type": "code",
      "metadata": {
        "id": "0OgbprMvt1pf"
      },
      "source": [
        "sleep_df['Grade'] = sleep_df['Grade'].replace(['Eighth grade'], '8th grade')"
      ],
      "execution_count": 21,
      "outputs": []
    },
    {
      "cell_type": "code",
      "metadata": {
        "id": "aohz1J41uCed"
      },
      "source": [
        "sleep_df['Grade'] = sleep_df['Grade'].replace(['Seventh grade'], '7th grade')"
      ],
      "execution_count": 25,
      "outputs": []
    },
    {
      "cell_type": "code",
      "metadata": {
        "id": "cuzdJPt1uOHH"
      },
      "source": [
        "sleep_df['Grade'] = sleep_df['Grade'].replace(['Sixth grade'], '6th grade')"
      ],
      "execution_count": 23,
      "outputs": []
    },
    {
      "cell_type": "code",
      "metadata": {
        "id": "75c6gos9uZ8A"
      },
      "source": [
        "sleep_df['Grade'] = sleep_df['Grade'].replace(['Fifth grade'], '5th grade')"
      ],
      "execution_count": 24,
      "outputs": []
    },
    {
      "cell_type": "code",
      "metadata": {
        "id": "pHpn9d2kuvob"
      },
      "source": [
        "sleep_df['Grade'] = sleep_df['Grade'].replace(['Fourth grade'], '4th grade')"
      ],
      "execution_count": 26,
      "outputs": []
    },
    {
      "cell_type": "code",
      "metadata": {
        "id": "AF2mZHsAu3WN"
      },
      "source": [
        "sleep_df['Grade'] = sleep_df['Grade'].replace(['Third grade'], '3rd grade')"
      ],
      "execution_count": 27,
      "outputs": []
    },
    {
      "cell_type": "code",
      "metadata": {
        "id": "gzUC0o5Xu71y"
      },
      "source": [
        "sleep_df['Grade'] = sleep_df['Grade'].replace(['Second grade'], '2nd grade')"
      ],
      "execution_count": 28,
      "outputs": []
    },
    {
      "cell_type": "code",
      "metadata": {
        "id": "eeK9Qg1HvAam"
      },
      "source": [
        "sleep_df['Grade'] = sleep_df['Grade'].replace(['First grade'], '1st grade')"
      ],
      "execution_count": 29,
      "outputs": []
    },
    {
      "cell_type": "code",
      "metadata": {
        "colab": {
          "base_uri": "https://localhost:8080/",
          "height": 302
        },
        "id": "NmWPOPv_qpVy",
        "outputId": "afbc871b-596c-4da2-b21b-9ee10eeb5eaf"
      },
      "source": [
        "sleep_df.plot(x = 'Grade', y = ['Hours Needed', 'Hours Averaged'], kind = 'barh')\n",
        "plt.xlim(left = 0, right = 10)\n",
        "plt.xlabel('Hours of Sleep', fontsize = 16)\n",
        "plt.ylabel('Grade', fontsize = 16)\n",
        "plt.grid(axis = 'x', color = 'k', alpha = .2)\n",
        "plt.legend(loc = (1.02,0))\n",
        "plt.title('Lack of Sleep among School Aged Kids', fontsize = 16);"
      ],
      "execution_count": 43,
      "outputs": [
        {
          "output_type": "display_data",
          "data": {
            "image/png": "[encoded data removed]",
            "text/plain": [
              "<Figure size 432x288 with 1 Axes>"
            ]
          },
          "metadata": {
            "needs_background": "light"
          }
        }
      ]
    },
    {
      "cell_type": "code",
      "metadata": {
        "id": "IP-41ubArjj5"
      },
      "source": [
        ""
      ],
      "execution_count": null,
      "outputs": []
    }
  ]
}